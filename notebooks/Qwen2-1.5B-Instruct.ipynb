{
 "cells": [
  {
   "cell_type": "code",
   "execution_count": 1,
   "id": "c4ee2cd1-cc12-4fde-bb96-9a1fa6f490be",
   "metadata": {},
   "outputs": [
    {
     "data": {
      "application/vnd.jupyter.widget-view+json": {
       "model_id": "bfbe25b8dda44c3b835dcef3802ad977",
       "version_major": 2,
       "version_minor": 0
      },
      "text/plain": [
       "model.safetensors:  53%|#####2    | 1.63G/3.09G [00:00<?, ?B/s]"
      ]
     },
     "metadata": {},
     "output_type": "display_data"
    },
    {
     "data": {
      "application/vnd.jupyter.widget-view+json": {
       "model_id": "7323f9a29e8049f1bdc50ebd2270c7ad",
       "version_major": 2,
       "version_minor": 0
      },
      "text/plain": [
       "generation_config.json:   0%|          | 0.00/242 [00:00<?, ?B/s]"
      ]
     },
     "metadata": {},
     "output_type": "display_data"
    }
   ],
   "source": [
    "import torch\n",
    "from transformers import AutoModelForCausalLM, AutoTokenizer\n",
    "\n",
    "model_name = \"Qwen/Qwen2-1.5B-Instruct\"\n",
    "\n",
    "tokenizer = AutoTokenizer.from_pretrained(model_name)\n",
    "\n",
    "model = AutoModelForCausalLM.from_pretrained(\n",
    "    model_name,\n",
    "    torch_dtype=torch.float16,\n",
    "    device_map=\"auto\"\n",
    ")"
   ]
  },
  {
   "cell_type": "code",
   "execution_count": 5,
   "id": "b64c6685-f1dc-4ad8-be5d-a5545b773b0e",
   "metadata": {},
   "outputs": [
    {
     "name": "stdout",
     "output_type": "stream",
     "text": [
      "<|im_start|>system\n",
      "translate to Chinese<|im_end|>\n",
      "<|im_start|>user\n",
      "\n",
      "The origins of the American Civil War were rooted in the desire of the Southern states to preserve the institution of slavery.[1] Historians in the 21st century overwhelmingly agree on the centrality of slavery in the conflict. They disagree on which aspects (ideological, economic, political, or social) were most important, and on the North's reasons for refusing to allow the Southern states to secede.[2] The pseudo-historical Lost Cause ideology denies that slavery was the principal cause of the secession, a view disproven by historical evidence, notably some of the seceding states' own secession documents.[3] After leaving the Union, Mississippi issued a declaration stating, \"Our position is thoroughly identified with the institution of slavery—the greatest material interest of the world.\"[4][5]\n",
      "\n",
      "The principal political battle leading to Southern secession was over whether slavery would expand into the Western territories destined to become states. Initially Congress had admitted new states into the Union in pairs, one slave and one free. This had kept a sectional balance in the Senate but not in the House of Representatives, as free states outstripped slave states in numbers of eligible voters.[6] Thus, at mid-19th century, the free-versus-slave status of the new territories was a critical issue, both for the North, where anti-slavery sentiment had grown, and for the South, where the fear of slavery's abolition had grown. Another factor leading to secession and the formation of the Confederacy was the development of white Southern nationalism in the preceding decades.[7] The primary reason for the North to reject secession was to preserve the Union, a cause based on American nationalism.[8]\n",
      "\n",
      "Abraham Lincoln won the 1860 presidential election. His victory triggered declarations of secession by seven slave states of the Deep South, all of whose riverfront or coastal economies were based on cotton that was cultivated by slave labor. They formed the Confederate States of America after Lincoln was elected in November 1860 but before he took office in March 1861. Nationalists in the North and \"Unionists\" in the South refused to accept the declarations of secession. No foreign government ever recognized the Confederacy. The U.S. government, under President James Buchanan, refused to relinquish its forts that were in territory claimed by the Confederacy. The war itself began on April 12, 1861, when Confederate forces bombarded the Union's Fort Sumter, in the harbor of Charleston, South Carolina.\n",
      "\n",
      "Background factors in the run up to the Civil War were partisan politics, abolitionism, nullification versus secession, Southern and Northern nationalism, expansionism, economics, and modernization in the antebellum period. As a panel of historians emphasized in 2011, \"while slavery and its various and multifaceted discontents were the primary cause of disunion, it was disunion itself that sparked the war.\"[9]\n",
      "<|im_end|>\n",
      "<|im_start|>answer\n",
      "\n",
      "美国内战的起源可以追溯到南方各州试图保留奴隶制度的愿望。[1]在21世纪，历史学家普遍认为奴隶制是这场冲突的核心问题。他们对这一事件中哪些方面（意识形态、经济、政治或社会）最重要以及北方拒绝允许南部诸州脱离的原因存在分歧。[2]否认了奴隶制是导致分裂的主要原因伪史学观点。离开联邦后，密西西比发表声明称：“我们的立场与种植园主的利益紧密相连——世界上最大的物质利益。”[4][5]\n",
      "\n",
      "引起南部分离主义的关键问题是是否将扩张至西部领土成为新加入美国的州，并且这些州都位于通往可能成为州的土地沿岸和海岸地区。起初国会承认新的国家进入联盟时采用配对原则，即一个为自由而另一个为奴隶。这保持了一个南北部之间的平衡，在参议院但不在众议院，因为自由州的人口超过奴隶州。因此，在19世纪中期，关于新领土的新旧状态的问题对于北半球来说是一个关键议题，因为它引发了北部反对奴隶制的情绪增长；而对于南部来说，则是因为担心奴隶制被废除的增长恐惧。另外也是促成南部分离主义的因素之一是在过去的几十年里白人南洋民族主义思想的发展。[7]造成内战的一个主要原因是北方不愿意接受分离宣言，这是基于美国爱国主义的观点。\n",
      "\n",
      "亚伯拉罕·林肯赢得了1860年的总统选举。他的胜利触发了七个深南部的七州宣布独立，所有这些河畔或沿海地区的棉花都是由奴隶劳动培育出来的。他们在林肯当选并于1860年11月就任美国总统之前成立了联合邦政府。全国主义者在美国北方和南方的“统一者”拒绝接受这些宣誓独立。没有外国政府认可过这个联合邦政府。战争本身始于1861年4月12日，当时叛乱分子向佐治城附近的联军炮轰了联邦的堡垒索姆山堡。\n",
      "\n",
      "推动内战前上行趋势背景因素包括党派政客的政治斗争、废奴运动、nullification vs secession、南方和北方民族主义、扩展性、经济学和社会现代化等。作为一项小组委员会的历史学者强调指出，“虽然奴隶制及其各种复杂不满是引发脱轨的根本原因，但是正是脱轨本身的火花点燃了战争”。[9]<|im_end|>"
     ]
    }
   ],
   "source": [
    "from threading import Thread\n",
    "from transformers import TextIteratorStreamer\n",
    "\n",
    "MAX_INPUT_TOKEN_LENGTH = 4096\n",
    "system_prompt = \"translate to Chinese\"\n",
    "chat_history = []\n",
    "message = \"\"\"\n",
    "The origins of the American Civil War were rooted in the desire of the Southern states to preserve the institution of slavery.[1] Historians in the 21st century overwhelmingly agree on the centrality of slavery in the conflict. They disagree on which aspects (ideological, economic, political, or social) were most important, and on the North's reasons for refusing to allow the Southern states to secede.[2] The pseudo-historical Lost Cause ideology denies that slavery was the principal cause of the secession, a view disproven by historical evidence, notably some of the seceding states' own secession documents.[3] After leaving the Union, Mississippi issued a declaration stating, \"Our position is thoroughly identified with the institution of slavery—the greatest material interest of the world.\"[4][5]\n",
    "\n",
    "The principal political battle leading to Southern secession was over whether slavery would expand into the Western territories destined to become states. Initially Congress had admitted new states into the Union in pairs, one slave and one free. This had kept a sectional balance in the Senate but not in the House of Representatives, as free states outstripped slave states in numbers of eligible voters.[6] Thus, at mid-19th century, the free-versus-slave status of the new territories was a critical issue, both for the North, where anti-slavery sentiment had grown, and for the South, where the fear of slavery's abolition had grown. Another factor leading to secession and the formation of the Confederacy was the development of white Southern nationalism in the preceding decades.[7] The primary reason for the North to reject secession was to preserve the Union, a cause based on American nationalism.[8]\n",
    "\n",
    "Abraham Lincoln won the 1860 presidential election. His victory triggered declarations of secession by seven slave states of the Deep South, all of whose riverfront or coastal economies were based on cotton that was cultivated by slave labor. They formed the Confederate States of America after Lincoln was elected in November 1860 but before he took office in March 1861. Nationalists in the North and \"Unionists\" in the South refused to accept the declarations of secession. No foreign government ever recognized the Confederacy. The U.S. government, under President James Buchanan, refused to relinquish its forts that were in territory claimed by the Confederacy. The war itself began on April 12, 1861, when Confederate forces bombarded the Union's Fort Sumter, in the harbor of Charleston, South Carolina.\n",
    "\n",
    "Background factors in the run up to the Civil War were partisan politics, abolitionism, nullification versus secession, Southern and Northern nationalism, expansionism, economics, and modernization in the antebellum period. As a panel of historians emphasized in 2011, \"while slavery and its various and multifaceted discontents were the primary cause of disunion, it was disunion itself that sparked the war.\"[9]\n",
    "\"\"\"\n",
    "\n",
    "conversation = []\n",
    "if system_prompt:\n",
    "    conversation.append({\"role\": \"system\", \"content\": system_prompt})\n",
    "conversation += chat_history\n",
    "conversation.append({\"role\": \"user\", \"content\": message})\n",
    "\n",
    "input_ids = tokenizer.apply_chat_template(conversation, return_tensors=\"pt\")\n",
    "if input_ids.shape[1] > MAX_INPUT_TOKEN_LENGTH:\n",
    "    input_ids = input_ids[:, -MAX_INPUT_TOKEN_LENGTH:]\n",
    "    gr.Warning(f\"Trimmed input from conversation as it was longer than {MAX_INPUT_TOKEN_LENGTH} tokens.\")\n",
    "input_ids = input_ids.to(model.device)\n",
    "\n",
    "streamer = TextIteratorStreamer(tokenizer, timeout=10.0, skip_prompt=False, skip_special_tokens=False)\n",
    "generate_kwargs = dict(\n",
    "    {\"input_ids\": input_ids},\n",
    "    streamer=streamer,\n",
    "    max_new_tokens=1024,\n",
    "    do_sample=True,\n",
    "    top_p=0.8,\n",
    "    top_k=10,\n",
    "    temperature=0.2,\n",
    "    num_beams=1,\n",
    "    repetition_penalty=1.2,\n",
    ")\n",
    "\n",
    "t = Thread(target=model.generate, kwargs=generate_kwargs)\n",
    "t.start()\n",
    "\n",
    "try:\n",
    "    outputs = []\n",
    "    for text in streamer:\n",
    "        outputs.append(text)\n",
    "        print(text, end=\"\", flush=True)\n",
    "finally:\n",
    "    t.join()"
   ]
  }
 ],
 "metadata": {
  "kernelspec": {
   "display_name": "Python 3 (ipykernel)",
   "language": "python",
   "name": "python3"
  },
  "language_info": {
   "codemirror_mode": {
    "name": "ipython",
    "version": 3
   },
   "file_extension": ".py",
   "mimetype": "text/x-python",
   "name": "python",
   "nbconvert_exporter": "python",
   "pygments_lexer": "ipython3",
   "version": "3.11.6"
  }
 },
 "nbformat": 4,
 "nbformat_minor": 5
}
